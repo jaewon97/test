{
 "cells": [
  {
   "cell_type": "code",
   "execution_count": 4,
   "metadata": {},
   "outputs": [],
   "source": [
    "from transformers import PreTrainedTokenizerFast, GPT2LMHeadModel\n",
    "import torch\n",
    "\n",
    "# gpu 사용 가능하다면 사용하도록\n",
    "\n",
    "device = 'cuda' if torch.cuda.is_available() else 'cpu'\n",
    "\n",
    "# 모델 불러오기\n",
    "\n",
    "tokenizer = PreTrainedTokenizerFast.from_pretrained('byeongal/ko-DialoGPT')\n"
   ]
  },
  {
   "cell_type": "code",
   "execution_count": 5,
   "metadata": {},
   "outputs": [],
   "source": []
  },
  {
   "cell_type": "code",
   "execution_count": 6,
   "metadata": {},
   "outputs": [
    {
     "name": "stdout",
     "output_type": "stream",
     "text": [
      "야\n",
      "Bot: 하\n",
      "야이\n",
      "Bot: 괜찮아요?\n",
      "너뭐야\n",
      "Bot: 뭘까요? 뭐가 문젤까요? 파워는 검색해도 안 나와요. 전기 먹는 건 300와트인데 대체 뭐죠?\n",
      "너누구야\n",
      "Bot: 네 학교가 우리지역서 워낙 엄한 데라 그렇긴 해요.\n",
      "\n",
      "Bot: 뭔가를 잊고 있나 했더니 오늘 맛 집 탐색을 안 했네요.\n"
     ]
    }
   ],
   "source": [
    "\n",
    "while True:\n",
    "\n",
    "    user_input=input(\">>user:\")\n",
    "    print(user_input)\n",
    "    if user_input =='bye':\n",
    "        break\n",
    "    text_idx=tokenizer.encode(user_input+tokenizer.eos_token,return_tensors='pt')\n",
    "    text_idx=text_idx.to(device)\n",
    "    inference_output=model.generate(\n",
    "        text_idx,\n",
    "        max_length=1000,\n",
    "        num_beams=5,\n",
    "        top_k=20,\n",
    "        no_repeat_ngram_size=4,\n",
    "        length_penalty=0.65,\n",
    "        repetition_penalty=2.0,\n",
    "    \n",
    "    )\n",
    "    inference_output=inference_output.tolist()\n",
    "    bot_response=tokenizer.decode(inference_output[0][text_idx.shape[-1]:],\n",
    "                                    skip_special_tokens=True)\n",
    "    print(f\"Bot: {bot_response}\")                      "
   ]
  },
  {
   "cell_type": "code",
   "execution_count": null,
   "metadata": {},
   "outputs": [],
   "source": []
  }
 ],
 "metadata": {
  "kernelspec": {
   "display_name": "first",
   "language": "python",
   "name": "python3"
  },
  "language_info": {
   "codemirror_mode": {
    "name": "ipython",
    "version": 3
   },
   "file_extension": ".py",
   "mimetype": "text/x-python",
   "name": "python",
   "nbconvert_exporter": "python",
   "pygments_lexer": "ipython3",
   "version": "3.8.16"
  },
  "orig_nbformat": 4
 },
 "nbformat": 4,
 "nbformat_minor": 2
}
